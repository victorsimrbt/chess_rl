{
 "cells": [
  {
   "cell_type": "code",
   "execution_count": 1,
   "source": [
    "import os\r\n",
    "\r\n",
    "os.getcwd()"
   ],
   "outputs": [
    {
     "output_type": "execute_result",
     "data": {
      "text/plain": [
       "'c:\\\\Users\\\\v_sim\\\\Desktop\\\\Files\\\\Code\\\\Python\\\\Games\\\\chess_reinforcement_learning\\\\testing'"
      ]
     },
     "metadata": {},
     "execution_count": 1
    }
   ],
   "metadata": {}
  },
  {
   "cell_type": "code",
   "execution_count": 4,
   "source": [
    "import chess.pgn\r\n",
    "pgn = open('c:\\\\Users\\\\v_sim\\\\Desktop\\\\Files\\\\Data\\\\Carlsen.pgn')"
   ],
   "outputs": [],
   "metadata": {}
  },
  {
   "cell_type": "code",
   "execution_count": 29,
   "source": [
    "import chess.pgn\r\n",
    "pgn = open('c:\\\\Users\\\\v_sim\\\\Desktop\\\\Files\\\\Data\\\\Carlsen.pgn')\r\n",
    "results = []\r\n",
    "moves = []\r\n",
    "str2num = {\r\n",
    "    '1-0' : 1,\r\n",
    "    '1/2-1/2': 0.5,\r\n",
    "    '0-1':-1\r\n",
    "}\r\n",
    "while True:\r\n",
    "    game = chess.pgn.read_game(pgn)\r\n",
    "    try:\r\n",
    "        result = game.__dict__['headers']['Result']\r\n",
    "        results.append(str2num[result])\r\n",
    "        moves.append(list(game.mainline_moves()))\r\n",
    "    except:\r\n",
    "        break"
   ],
   "outputs": [],
   "metadata": {}
  },
  {
   "cell_type": "code",
   "execution_count": 28,
   "source": [
    "len(results)"
   ],
   "outputs": [
    {
     "output_type": "execute_result",
     "data": {
      "text/plain": [
       "2851"
      ]
     },
     "metadata": {},
     "execution_count": 28
    }
   ],
   "metadata": {}
  },
  {
   "cell_type": "code",
   "execution_count": 31,
   "source": [
    "len(moves)"
   ],
   "outputs": [
    {
     "output_type": "execute_result",
     "data": {
      "text/plain": [
       "2851"
      ]
     },
     "metadata": {},
     "execution_count": 31
    }
   ],
   "metadata": {}
  },
  {
   "cell_type": "code",
   "execution_count": 37,
   "source": [
    "import pickle \r\n",
    "\r\n",
    "with open('moves.pkl', 'wb') as f:\r\n",
    "    pickle.dump(moves, f)"
   ],
   "outputs": [],
   "metadata": {}
  },
  {
   "cell_type": "code",
   "execution_count": 38,
   "source": [
    "with open('results.pkl', 'wb') as f:\r\n",
    "    pickle.dump(results, f)"
   ],
   "outputs": [],
   "metadata": {}
  },
  {
   "cell_type": "code",
   "execution_count": 51,
   "source": [
    "positions = []\r\n",
    "results = []\r\n",
    "str2num = {\r\n",
    "    '1-0' : 1,\r\n",
    "    '1/2-1/2': 0.5,\r\n",
    "    '0-1':-1\r\n",
    "}\r\n",
    "results = []\r\n",
    "for game in moves:\r\n",
    "    board = chess.Board()\r\n",
    "    game_positions = []\r\n",
    "    for move in game:\r\n",
    "        game_positions.append(board.copy())\r\n",
    "        positions.append(generate_input(game_positions))\r\n",
    "        board.push(move)"
   ],
   "outputs": [],
   "metadata": {}
  },
  {
   "cell_type": "code",
   "execution_count": 43,
   "source": [
    "import numpy as np\r\n",
    "from board_conversion import *\r\n",
    "positions = np.array([translate_board(board) for board in positions])"
   ],
   "outputs": [],
   "metadata": {}
  },
  {
   "cell_type": "code",
   "execution_count": 44,
   "source": [
    "positions.shape"
   ],
   "outputs": [
    {
     "output_type": "execute_result",
     "data": {
      "text/plain": [
       "(258481, 8, 8, 12)"
      ]
     },
     "metadata": {},
     "execution_count": 44
    }
   ],
   "metadata": {}
  },
  {
   "cell_type": "code",
   "execution_count": 45,
   "source": [
    "with open('positions.pkl', 'wb') as f:\r\n",
    "    pickle.dump(positions, f)"
   ],
   "outputs": [],
   "metadata": {}
  },
  {
   "cell_type": "code",
   "execution_count": 47,
   "source": [
    "len(results)"
   ],
   "outputs": [
    {
     "output_type": "execute_result",
     "data": {
      "text/plain": [
       "2851"
      ]
     },
     "metadata": {},
     "execution_count": 47
    }
   ],
   "metadata": {}
  },
  {
   "cell_type": "code",
   "execution_count": null,
   "source": [],
   "outputs": [],
   "metadata": {}
  }
 ],
 "metadata": {
  "orig_nbformat": 4,
  "language_info": {
   "name": "python",
   "version": "3.8.3",
   "mimetype": "text/x-python",
   "codemirror_mode": {
    "name": "ipython",
    "version": 3
   },
   "pygments_lexer": "ipython3",
   "nbconvert_exporter": "python",
   "file_extension": ".py"
  },
  "kernelspec": {
   "name": "python3",
   "display_name": "Python 3.8.3 64-bit ('base': conda)"
  },
  "interpreter": {
   "hash": "5d591f94785818b435df4881258bbd57da528693019fb2c63deaaf29b9986dd3"
  }
 },
 "nbformat": 4,
 "nbformat_minor": 2
}