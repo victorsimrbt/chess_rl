{
 "cells": [
  {
   "cell_type": "code",
   "execution_count": 46,
   "source": [
    "import chess"
   ],
   "outputs": [],
   "metadata": {}
  },
  {
   "cell_type": "code",
   "execution_count": 47,
   "source": [
    "board = chess.Board()"
   ],
   "outputs": [],
   "metadata": {}
  },
  {
   "cell_type": "code",
   "execution_count": 48,
   "source": [
    "\r\n",
    "from board_conversion import *\r\n",
    "import numpy as np\r\n",
    "\r\n",
    "material_weight = 100 \r\n",
    "checkmate_weight = 1000\r\n",
    "\r\n",
    "def boolean_subtract(lst, bool):\r\n",
    "    if bool:\r\n",
    "        return lst[0] - lst[1]\r\n",
    "    else:\r\n",
    "        return lst[1] - lst[0]\r\n",
    "    \r\n",
    "def material_counter(board):\r\n",
    "    material = np.array([0,0])\r\n",
    "    translated_board = board_matrix(board)\r\n",
    "    for piece in translated_board:\r\n",
    "        material += value_dict[piece]\r\n",
    "    return material\r\n",
    "\r\n",
    "def material_reward(board,move):\r\n",
    "    rewards= []\r\n",
    "    for value in [True,False]:\r\n",
    "        original_diff = boolean_subtract(material_counter(board),value)\r\n",
    "        copy = board.copy()\r\n",
    "        copy.push(move)\r\n",
    "        final_material = boolean_subtract(material_counter(copy),value)\r\n",
    "        rewards.append((final_material-original_diff) * material_weight)\r\n",
    "    return rewards\r\n",
    "\r\n",
    "def checkmate_reward(board,move):\r\n",
    "    turn = board.turn\r\n",
    "    if turn:\r\n",
    "        reward_mask = np.array([1,-1])\r\n",
    "    else:\r\n",
    "        reward_mask = np.array([1,-1])\r\n",
    "    copy = board.copy()\r\n",
    "    copy.push(move)\r\n",
    "    if copy.is_checkmate():\r\n",
    "        reward = reward_mask * checkmate_weight\r\n",
    "    else:\r\n",
    "        reward = reward_mask * 0\r\n",
    "    return reward"
   ],
   "outputs": [],
   "metadata": {}
  },
  {
   "cell_type": "code",
   "execution_count": 49,
   "source": [
    "\r\n",
    "def evaluate_reward(board,move,algorithms = [material_reward,checkmate_reward]):\r\n",
    "    rewards = np.array([0,0])\r\n",
    "    for algorithm in algorithms:\r\n",
    "        print(algorithm)\r\n",
    "        rewards += algorithm(board,move)\r\n",
    "    return rewards"
   ],
   "outputs": [],
   "metadata": {}
  },
  {
   "cell_type": "code",
   "execution_count": 50,
   "source": [
    "evaluate_reward(chess.Board(),chess.Move.from_uci('e2e4'))"
   ],
   "outputs": [
    {
     "output_type": "stream",
     "name": "stdout",
     "text": [
      "<function material_reward at 0x0000023D1B6D1940>\n",
      "<function checkmate_reward at 0x0000023D2BA6DB80>\n"
     ]
    },
    {
     "output_type": "execute_result",
     "data": {
      "text/plain": [
       "array([0, 0])"
      ]
     },
     "metadata": {},
     "execution_count": 50
    }
   ],
   "metadata": {}
  },
  {
   "cell_type": "code",
   "execution_count": 51,
   "source": [
    "board = chess.Board()\r\n",
    "board.push_san('e4')"
   ],
   "outputs": [
    {
     "output_type": "execute_result",
     "data": {
      "text/plain": [
       "Move.from_uci('e2e4')"
      ]
     },
     "metadata": {},
     "execution_count": 51
    }
   ],
   "metadata": {}
  },
  {
   "cell_type": "code",
   "execution_count": 52,
   "source": [
    "def e4(board):\r\n",
    "    board.push_san('e4')"
   ],
   "outputs": [],
   "metadata": {}
  },
  {
   "cell_type": "code",
   "execution_count": 53,
   "source": [
    "board = chess.Board()\r\n",
    "e4(board)"
   ],
   "outputs": [],
   "metadata": {}
  },
  {
   "cell_type": "code",
   "execution_count": 54,
   "source": [
    "np.array([100,100]) * 0"
   ],
   "outputs": [
    {
     "output_type": "execute_result",
     "data": {
      "text/plain": [
       "array([0, 0])"
      ]
     },
     "metadata": {},
     "execution_count": 54
    }
   ],
   "metadata": {}
  }
 ],
 "metadata": {
  "orig_nbformat": 4,
  "language_info": {
   "name": "python",
   "version": "3.8.3",
   "mimetype": "text/x-python",
   "codemirror_mode": {
    "name": "ipython",
    "version": 3
   },
   "pygments_lexer": "ipython3",
   "nbconvert_exporter": "python",
   "file_extension": ".py"
  },
  "kernelspec": {
   "name": "python3",
   "display_name": "Python 3.8.3 64-bit ('base': conda)"
  },
  "interpreter": {
   "hash": "5d591f94785818b435df4881258bbd57da528693019fb2c63deaaf29b9986dd3"
  }
 },
 "nbformat": 4,
 "nbformat_minor": 2
}