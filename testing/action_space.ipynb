{
 "cells": [
  {
   "cell_type": "code",
   "execution_count": 4,
   "source": [
    "from keras.models import Model\r\n",
    "from keras.layers import Input\r\n",
    "from keras.layers import Activation\r\n",
    "from keras.layers import Conv2D, Dense\r\n",
    "from keras.layers import add, BatchNormalization, Flatten\r\n",
    "from keras.losses import CategoricalCrossentropy,MeanSquaredError\r\n",
    "import tensorflow as tf\r\n",
    "from board_conversion import *\r\n",
    "from keras.utils.generic_utils import get_custom_objects\r\n",
    "\r\n",
    "def residual_module(layer_in, n_filters):\r\n",
    "    merge_input = layer_in\r\n",
    "    if layer_in.shape[-1] != n_filters:\r\n",
    "        merge_input = Conv2D(n_filters, (1,1), padding='same', activation='relu')(layer_in)\r\n",
    "    conv1 = Conv2D(n_filters, (3,3), padding='same', activation='relu')(layer_in)\r\n",
    "    batch_norm = BatchNormalization()(conv1)\r\n",
    "    layer_out = add([batch_norm, merge_input])\r\n",
    "    layer_out = Activation('relu')(layer_out)\r\n",
    "    return layer_out\r\n",
    "\r\n",
    "visible = Input(shape=(17,8,8,12))\r\n",
    "layer1 = residual_module(visible, 64)\r\n",
    "layer2 = residual_module(layer1, 64)\r\n",
    "flatten = Flatten()(layer2)\r\n",
    "\r\n",
    "pre_v = Dense(256)(flatten)\r\n",
    "p = Conv2D(73,(1,1),activation='softmax', name = 'p')(layer2)\r\n",
    "v = Dense(1,activation = 'tanh', name = 'v')(pre_v)\r\n",
    "\r\n",
    "model = Model(inputs=visible, outputs=[p,v])\r\n",
    "\r\n",
    "model.compile(optimizer = 'adam', loss = {'p':CategoricalCrossentropy(),\r\n",
    "                                                'v':MeanSquaredError()})\r\n",
    "model.summary()"
   ],
   "outputs": [
    {
     "output_type": "stream",
     "name": "stdout",
     "text": [
      "Model: \"model_2\"\n",
      "__________________________________________________________________________________________________\n",
      "Layer (type)                    Output Shape         Param #     Connected to                     \n",
      "==================================================================================================\n",
      "input_4 (InputLayer)            [(None, 17, 8, 8, 12 0                                            \n",
      "__________________________________________________________________________________________________\n",
      "conv2d_10 (Conv2D)              (None, 17, 8, 8, 64) 6976        input_4[0][0]                    \n",
      "__________________________________________________________________________________________________\n",
      "batch_normalization_6 (BatchNor (None, 17, 8, 8, 64) 256         conv2d_10[0][0]                  \n",
      "__________________________________________________________________________________________________\n",
      "conv2d_9 (Conv2D)               (None, 17, 8, 8, 64) 832         input_4[0][0]                    \n",
      "__________________________________________________________________________________________________\n",
      "add_6 (Add)                     (None, 17, 8, 8, 64) 0           batch_normalization_6[0][0]      \n",
      "                                                                 conv2d_9[0][0]                   \n",
      "__________________________________________________________________________________________________\n",
      "activation_6 (Activation)       (None, 17, 8, 8, 64) 0           add_6[0][0]                      \n",
      "__________________________________________________________________________________________________\n",
      "conv2d_11 (Conv2D)              (None, 17, 8, 8, 64) 36928       activation_6[0][0]               \n",
      "__________________________________________________________________________________________________\n",
      "batch_normalization_7 (BatchNor (None, 17, 8, 8, 64) 256         conv2d_11[0][0]                  \n",
      "__________________________________________________________________________________________________\n",
      "add_7 (Add)                     (None, 17, 8, 8, 64) 0           batch_normalization_7[0][0]      \n",
      "                                                                 activation_6[0][0]               \n",
      "__________________________________________________________________________________________________\n",
      "activation_7 (Activation)       (None, 17, 8, 8, 64) 0           add_7[0][0]                      \n",
      "__________________________________________________________________________________________________\n",
      "flatten_3 (Flatten)             (None, 69632)        0           activation_7[0][0]               \n",
      "__________________________________________________________________________________________________\n",
      "dense_3 (Dense)                 (None, 256)          17826048    flatten_3[0][0]                  \n",
      "__________________________________________________________________________________________________\n",
      "p (Conv2D)                      (None, 17, 8, 8, 73) 4745        activation_7[0][0]               \n",
      "__________________________________________________________________________________________________\n",
      "v (Dense)                       (None, 1)            257         dense_3[0][0]                    \n",
      "==================================================================================================\n",
      "Total params: 17,876,298\n",
      "Trainable params: 17,876,042\n",
      "Non-trainable params: 256\n",
      "__________________________________________________________________________________________________\n"
     ]
    }
   ],
   "metadata": {}
  },
  {
   "cell_type": "code",
   "execution_count": null,
   "source": [],
   "outputs": [],
   "metadata": {}
  }
 ],
 "metadata": {
  "orig_nbformat": 4,
  "language_info": {
   "name": "python",
   "version": "3.8.3",
   "mimetype": "text/x-python",
   "codemirror_mode": {
    "name": "ipython",
    "version": 3
   },
   "pygments_lexer": "ipython3",
   "nbconvert_exporter": "python",
   "file_extension": ".py"
  },
  "kernelspec": {
   "name": "python3",
   "display_name": "Python 3.8.3 64-bit ('base': conda)"
  },
  "interpreter": {
   "hash": "5d591f94785818b435df4881258bbd57da528693019fb2c63deaaf29b9986dd3"
  }
 },
 "nbformat": 4,
 "nbformat_minor": 2
}