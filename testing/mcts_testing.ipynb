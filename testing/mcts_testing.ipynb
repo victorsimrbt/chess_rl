{
 "cells": [
  {
   "cell_type": "code",
   "execution_count": null,
   "source": [
    "P = {}\r\n",
    "Q = {}\r\n",
    "N = {}\r\n",
    "visited = []\r\n",
    "\r\n",
    "def search(s, game, nnet):\r\n",
    "    if game.gameEnded(s): \r\n",
    "        return -game.gameReward(s)\r\n",
    "\r\n",
    "    if s not in visited:\r\n",
    "        visited.add(s)\r\n",
    "        P[s], v = nnet.predict(s)\r\n",
    "        return -v\r\n",
    "  \r\n",
    "    max_u, best_a = -float(\"inf\"), -1\r\n",
    "    for a in game.getValidActions(s):\r\n",
    "        u = Q[s][a] + c_puct*P[s][a]*sqrt(sum(N[s]))/(1+N[s][a])\r\n",
    "        if u>max_u:\r\n",
    "            max_u = u\r\n",
    "            best_a = a\r\n",
    "    a = best_a\r\n",
    "    \r\n",
    "    sp = game.nextState(s, a)\r\n",
    "    v = search(sp, game, nnet)\r\n",
    "\r\n",
    "    Q[s][a] = (N[s][a]*Q[s][a] + v)/(N[s][a]+1)\r\n",
    "    N[s][a] += 1\r\n",
    "    return -v"
   ],
   "outputs": [],
   "metadata": {}
  },
  {
   "cell_type": "code",
   "execution_count": null,
   "source": [
    "import numpy as np\r\n",
    "class Action():\r\n",
    "    def __init__(self,state,idx,depth):\r\n",
    "        self.move_idx = idx\r\n",
    "        self.N = 0\r\n",
    "        self.W = 0\r\n",
    "        self.Q = 0\r\n",
    "        self.P = 0\r\n",
    "        self.U = 0\r\n",
    "        self.state = state\r\n",
    "        self.depth = depth\r\n",
    "    def evaluate(self,env,tree):\r\n",
    "        self.P = env.model.predict(self.state)\r\n",
    "        self.U = env.c_puct * self.P * np.sqrt(tree.states[depth])/1+ N\r\n",
    "        return self.U"
   ],
   "outputs": [],
   "metadata": {}
  },
  {
   "cell_type": "code",
   "execution_count": null,
   "source": [
    "class MCTS():\r\n",
    "    def __init__():\r\n",
    "        self.states = []"
   ],
   "outputs": [],
   "metadata": {}
  }
 ],
 "metadata": {
  "orig_nbformat": 4,
  "language_info": {
   "name": "python"
  }
 },
 "nbformat": 4,
 "nbformat_minor": 2
}