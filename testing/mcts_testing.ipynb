{
 "cells": [
  {
   "cell_type": "code",
   "execution_count": null,
   "source": [
    "P = {}\r\n",
    "Q = {}\r\n",
    "N = {}\r\n",
    "visited = []\r\n",
    "\r\n",
    "def search(s, game, nnet):\r\n",
    "    if game.gameEnded(s): \r\n",
    "        return -game.gameReward(s)\r\n",
    "\r\n",
    "    if s not in visited:\r\n",
    "        visited.add(s)\r\n",
    "        P[s], v = nnet.predict(s)\r\n",
    "        return -v\r\n",
    "  \r\n",
    "    max_u, best_a = -float(\"inf\"), -1\r\n",
    "    for a in game.getValidActions(s):\r\n",
    "        u = Q[s][a] + c_puct*P[s][a]*sqrt(sum(N[s]))/(1+N[s][a])\r\n",
    "        if u>max_u:\r\n",
    "            max_u = u\r\n",
    "            best_a = a\r\n",
    "    a = best_a\r\n",
    "    \r\n",
    "    sp = game.nextState(s, a)\r\n",
    "    v = search(sp, game, nnet)\r\n",
    "\r\n",
    "    Q[s][a] = (N[s][a]*Q[s][a] + v)/(N[s][a]+1)\r\n",
    "    N[s][a] += 1\r\n",
    "    return -v"
   ],
   "outputs": [],
   "metadata": {}
  },
  {
   "cell_type": "code",
   "execution_count": null,
   "source": [
    "def policyIterSP(game):\r\n",
    "    nnet = initNNet()                                       # initialise random neural network\r\n",
    "    examples = []    \r\n",
    "    for i in range(numIters):\r\n",
    "        for e in range(numEps):\r\n",
    "            examples += executeEpisode(game, nnet)          # collect examples from this game\r\n",
    "        new_nnet = trainNNet(examples)                  \r\n",
    "        frac_win = pit(new_nnet, nnet)                      # compare new net with previous net\r\n",
    "        if frac_win > threshold: \r\n",
    "            nnet = new_nnet                                 # replace with new net            \r\n",
    "    return nnet\r\n",
    "\r\n",
    "def executeEpisode(game, nnet):\r\n",
    "    examples = []\r\n",
    "    s = game.startState()\r\n",
    "    mcts = MCTS()                                           # initialise search tree\r\n",
    "        \r\n",
    "    while True:\r\n",
    "        for _ in range(numMCTSSims):\r\n",
    "            mcts.search(s, game, nnet)\r\n",
    "        examples.append([s, mcts.pi(s), None])              # rewards can not be determined yet \r\n",
    "        a = random.choice(len(mcts.pi(s)), p=mcts.pi(s))    # sample action from improved policy\r\n",
    "        s = game.nextState(s,a)\r\n",
    "        if game.gameEnded(s):\r\n",
    "            examples = assignRewards(examples, game.gameReward(s)) \r\n",
    "            return examples"
   ],
   "outputs": [],
   "metadata": {}
  }
 ],
 "metadata": {
  "orig_nbformat": 4,
  "language_info": {
   "name": "python"
  }
 },
 "nbformat": 4,
 "nbformat_minor": 2
}