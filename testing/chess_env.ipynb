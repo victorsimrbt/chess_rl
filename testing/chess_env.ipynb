{
 "cells": [
  {
   "cell_type": "code",
   "execution_count": null,
   "source": [
    "import chess\r\n",
    "import numpy as np\r\n",
    "def filter_legal_moves(board,logits):\r\n",
    "    filter_mask = np.zeros(logits.shape)\r\n",
    "    legal_moves = board.legal_moves\r\n",
    "    for legal_move in legal_moves:\r\n",
    "        from_square = legal_move.from_square\r\n",
    "        to_square = legal_move.to_square\r\n",
    "        idx = move2num[chess.Move(from_square,to_square)]\r\n",
    "        filter_mask[idx] = 1\r\n",
    "    new_logits = logits*filter_mask\r\n",
    "    return new_logits\r\n",
    "\r\n",
    "num2move = {}\r\n",
    "move2num = {}\r\n",
    "counter = 0\r\n",
    "for from_sq in range(64):\r\n",
    "    for to_sq in range(64):\r\n",
    "        num2move[counter] = chess.Move(from_sq,to_sq)\r\n",
    "        move2num[chess.Move(from_sq,to_sq)] = counter\r\n",
    "        counter += 1\r\n",
    "\r\n",
    "def translate_board(board): \r\n",
    "    pgn = board.epd()\r\n",
    "    foo = []  \r\n",
    "    pieces = pgn.split(\" \", 1)[0]\r\n",
    "    rows = pieces.split(\"/\")\r\n",
    "    for row in rows:\r\n",
    "        foo2 = []  \r\n",
    "        for thing in row:\r\n",
    "            if thing.isdigit():\r\n",
    "                for i in range(0, int(thing)):\r\n",
    "                    foo2.append(chess_dict['.'])\r\n",
    "            else:\r\n",
    "                foo2.append(chess_dict[thing])\r\n",
    "        foo.append(foo2)\r\n",
    "    return np.array(foo)\r\n",
    "\r\n",
    "chess_dict = {\r\n",
    "    'p' : [1,0,0,0,0,0,0,0,0,0,0,0],\r\n",
    "    'P' : [0,0,0,0,0,0,1,0,0,0,0,0],\r\n",
    "    'n' : [0,1,0,0,0,0,0,0,0,0,0,0],\r\n",
    "    'N' : [0,0,0,0,0,0,0,1,0,0,0,0],\r\n",
    "    'b' : [0,0,1,0,0,0,0,0,0,0,0,0],\r\n",
    "    'B' : [0,0,0,0,0,0,0,0,1,0,0,0],\r\n",
    "    'r' : [0,0,0,1,0,0,0,0,0,0,0,0],\r\n",
    "    'R' : [0,0,0,0,0,0,0,0,0,1,0,0],\r\n",
    "    'q' : [0,0,0,0,1,0,0,0,0,0,0,0],\r\n",
    "    'Q' : [0,0,0,0,0,0,0,0,0,0,1,0],\r\n",
    "    'k' : [0,0,0,0,0,1,0,0,0,0,0,0],\r\n",
    "    'K' : [0,0,0,0,0,0,0,0,0,0,0,1],\r\n",
    "    '.' : [0,0,0,0,0,0,0,0,0,0,0,0],\r\n",
    "}"
   ],
   "outputs": [],
   "metadata": {}
  },
  {
   "cell_type": "code",
   "execution_count": 1,
   "source": [
    "import chess\r\n",
    "class ChessEnv():\r\n",
    "    def __init__(self):\r\n",
    "        self.board = chess.Board()\r\n",
    "        pass\r\n",
    "    def translate_board(self):\r\n",
    "        return translate_board(self.board)\r\n",
    "    def reset(self):\r\n",
    "        self.board = chess.Board()\r\n",
    "        return translate_board(self.board)\r\n",
    "    def step(self,action):\r\n",
    "        reward = 0\r\n",
    "        done = False\r\n",
    "        \r\n",
    "        self.board.push(action)\r\n",
    "        state_next = self.board\r\n",
    "        state_next = translate_board(state_next)\r\n",
    "        \r\n",
    "        if self.board.is_checkmate():\r\n",
    "            reward = 100\r\n",
    "        if self.board.is_game_over():\r\n",
    "            done = True\r\n",
    "        return state_next,reward,done"
   ],
   "outputs": [],
   "metadata": {}
  },
  {
   "cell_type": "code",
   "execution_count": 7,
   "source": [
    "import chess\r\n",
    "board = chess.Board()\r\n",
    "\r\n",
    "arr = filter_legal_moves(board,np.random.randn(4096))\r\n",
    "np.where(arr != 0)"
   ],
   "outputs": [
    {
     "output_type": "execute_result",
     "data": {
      "text/plain": [
       "(array([ 80,  82, 405, 407, 528, 536, 593, 601, 658, 666, 723, 731, 788,\n",
       "        796, 853, 861, 918, 926, 983, 991], dtype=int64),)"
      ]
     },
     "metadata": {},
     "execution_count": 7
    }
   ],
   "metadata": {}
  },
  {
   "cell_type": "code",
   "execution_count": null,
   "source": [
    "def filter_legal_moves(board,logits):\r\n",
    "    filter_mask = np.zeros(logits.shape)\r\n",
    "    legal_moves = board.legal_moves\r\n",
    "    for legal_move in legal_moves:\r\n",
    "        from_square = legal_move.from_square\r\n",
    "        to_square = legal_move.to_square\r\n",
    "        idx = move2num[chess.Move(from_square,to_square)]\r\n",
    "        print(idx)\r\n",
    "        filter_mask[idx] = 1\r\n",
    "    new_logits = logits*filter_mask\r\n",
    "    return new_logits"
   ],
   "outputs": [],
   "metadata": {}
  },
  {
   "cell_type": "code",
   "execution_count": 9,
   "source": [
    "np.random.rand(1)"
   ],
   "outputs": [
    {
     "output_type": "execute_result",
     "data": {
      "text/plain": [
       "array([0.84513417])"
      ]
     },
     "metadata": {},
     "execution_count": 9
    }
   ],
   "metadata": {}
  },
  {
   "cell_type": "code",
   "execution_count": 3,
   "source": [
    "a = [0]"
   ],
   "outputs": [],
   "metadata": {}
  },
  {
   "cell_type": "code",
   "execution_count": 4,
   "source": [
    "a[-8:]"
   ],
   "outputs": [
    {
     "output_type": "execute_result",
     "data": {
      "text/plain": [
       "[0]"
      ]
     },
     "metadata": {},
     "execution_count": 4
    }
   ],
   "metadata": {}
  },
  {
   "cell_type": "code",
   "execution_count": null,
   "source": [],
   "outputs": [],
   "metadata": {}
  }
 ],
 "metadata": {
  "orig_nbformat": 4,
  "language_info": {
   "name": "python",
   "version": "3.8.3",
   "mimetype": "text/x-python",
   "codemirror_mode": {
    "name": "ipython",
    "version": 3
   },
   "pygments_lexer": "ipython3",
   "nbconvert_exporter": "python",
   "file_extension": ".py"
  },
  "kernelspec": {
   "name": "python3",
   "display_name": "Python 3.8.3 64-bit ('base': conda)"
  },
  "interpreter": {
   "hash": "5d591f94785818b435df4881258bbd57da528693019fb2c63deaaf29b9986dd3"
  }
 },
 "nbformat": 4,
 "nbformat_minor": 2
}