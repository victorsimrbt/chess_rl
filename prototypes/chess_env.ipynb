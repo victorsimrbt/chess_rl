{
 "cells": [
  {
   "cell_type": "code",
   "execution_count": 1,
   "source": [
    "import chess\r\n",
    "from board_conversion import *\r\n",
    "class ChessEnv():\r\n",
    "    def __init__(self):\r\n",
    "        self.board = chess.Board()\r\n",
    "        pass\r\n",
    "    def translate_board(self):\r\n",
    "        return translate_board(self.board)\r\n",
    "    def reset(self):\r\n",
    "        self.board = chess.Board()\r\n",
    "        return translate_board(self.board)\r\n",
    "    def step(self,action):\r\n",
    "        reward = 0\r\n",
    "        done = False\r\n",
    "        \r\n",
    "        self.board.push(action)\r\n",
    "        state_next = self.board\r\n",
    "        state_next = translate_board(state_next)\r\n",
    "        \r\n",
    "        if self.board.is_checkmate():\r\n",
    "            reward = 100\r\n",
    "        if self.board.is_game_over():\r\n",
    "            done = True\r\n",
    "        return state_next,reward,done"
   ],
   "outputs": [],
   "metadata": {}
  },
  {
   "cell_type": "code",
   "execution_count": 7,
   "source": [
    "import chess\r\n",
    "from board_conversion import *\r\n",
    "board = chess.Board()\r\n",
    "\r\n",
    "arr = filter_legal_moves(board,np.random.randn(4096))\r\n",
    "np.where(arr != 0)"
   ],
   "outputs": [
    {
     "output_type": "execute_result",
     "data": {
      "text/plain": [
       "(array([ 80,  82, 405, 407, 528, 536, 593, 601, 658, 666, 723, 731, 788,\n",
       "        796, 853, 861, 918, 926, 983, 991], dtype=int64),)"
      ]
     },
     "metadata": {},
     "execution_count": 7
    }
   ],
   "metadata": {}
  },
  {
   "cell_type": "code",
   "execution_count": null,
   "source": [
    "def filter_legal_moves(board,logits):\r\n",
    "    filter_mask = np.zeros(logits.shape)\r\n",
    "    legal_moves = board.legal_moves\r\n",
    "    for legal_move in legal_moves:\r\n",
    "        from_square = legal_move.from_square\r\n",
    "        to_square = legal_move.to_square\r\n",
    "        idx = move2num[chess.Move(from_square,to_square)]\r\n",
    "        print(idx)\r\n",
    "        filter_mask[idx] = 1\r\n",
    "    new_logits = logits*filter_mask\r\n",
    "    return new_logits"
   ],
   "outputs": [],
   "metadata": {}
  },
  {
   "cell_type": "code",
   "execution_count": 9,
   "source": [
    "np.random.rand(1)"
   ],
   "outputs": [
    {
     "output_type": "execute_result",
     "data": {
      "text/plain": [
       "array([0.84513417])"
      ]
     },
     "metadata": {},
     "execution_count": 9
    }
   ],
   "metadata": {}
  },
  {
   "cell_type": "code",
   "execution_count": null,
   "source": [],
   "outputs": [],
   "metadata": {}
  }
 ],
 "metadata": {
  "orig_nbformat": 4,
  "language_info": {
   "name": "python",
   "version": "3.8.3",
   "mimetype": "text/x-python",
   "codemirror_mode": {
    "name": "ipython",
    "version": 3
   },
   "pygments_lexer": "ipython3",
   "nbconvert_exporter": "python",
   "file_extension": ".py"
  },
  "kernelspec": {
   "name": "python3",
   "display_name": "Python 3.8.3 64-bit ('base': conda)"
  },
  "interpreter": {
   "hash": "5d591f94785818b435df4881258bbd57da528693019fb2c63deaaf29b9986dd3"
  }
 },
 "nbformat": 4,
 "nbformat_minor": 2
}