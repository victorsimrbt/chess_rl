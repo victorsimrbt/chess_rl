{
 "cells": [
  {
   "cell_type": "code",
   "execution_count": 1,
   "source": [
    "from multiprocessing.pool import ThreadPool as Pool"
   ],
   "outputs": [],
   "metadata": {}
  },
  {
   "cell_type": "code",
   "execution_count": 2,
   "source": [
    "from mcts import *\r\n",
    "from q_network import *\r\n",
    "chain  = []\r\n",
    "model = Q_model()\r\n",
    "tree = MonteCarloTree(model,chess.Board(),[])\r\n",
    "def f(x):\r\n",
    "    tree.run_simulations(simulations = 10)\r\n",
    "    print(tree.sims)\r\n",
    "    return x"
   ],
   "outputs": [
    {
     "output_type": "stream",
     "name": "stdout",
     "text": [
      "Init Root Node\n"
     ]
    }
   ],
   "metadata": {}
  },
  {
   "cell_type": "code",
   "execution_count": 3,
   "source": [
    "with Pool(5) as p:\r\n",
    "    x = p.map(f, [1, 2, 3])\r\n",
    "p.close()"
   ],
   "outputs": [
    {
     "output_type": "stream",
     "name": "stderr",
     "text": [
      "c:\\Users\\v_sim\\Desktop\\Files\\Code\\Python\\Games\\chess_reinforcement_learning\\v3.2.0\\mcts.py:136: VisibleDeprecationWarning: Creating an ndarray from ragged nested sequences (which is a list-or-tuple of lists-or-tuples-or ndarrays with different lengths or shapes) is deprecated. If you meant to do this, you must specify 'dtype=object' when creating the ndarray.\n",
      "  np.where(QpUs == max(QpUs))[0])]\n"
     ]
    },
    {
     "output_type": "stream",
     "name": "stdout",
     "text": [
      "NS [0, 0, 0, 0, 0, 26, 27, 0, 0, 0, 0, 0, 0, 0, 0, 0, 0, 0, 97, 0]\n",
      "NS [0, 0, 0, 0, 0, 30, 31, 0, 0, 0, 0, 0, 0, 0, 0, 0, 0, 0, 113, 0]\n",
      "NS [0, 0, 0, 0, 0, 31, 32, 0, 0, 0, 0, 0, 0, 0, 0, 0, 0, 0, 117, 0]\n"
     ]
    }
   ],
   "metadata": {}
  },
  {
   "cell_type": "code",
   "execution_count": 10,
   "source": [
    "for i in range(3):\r\n",
    "    tree.run_simulations(simulations = 10)"
   ],
   "outputs": [
    {
     "output_type": "stream",
     "name": "stdout",
     "text": [
      "NS [0, 0, 0, 0, 0, 0, 0, 0, 0, 0, 0, 19, 0, 0, 0, 0, 0, 0, 0, 0]\n",
      "NS [0, 0, 0, 0, 0, 0, 0, 0, 0, 0, 0, 39, 0, 0, 0, 0, 0, 0, 0, 0]\n",
      "NS [0, 0, 0, 0, 0, 0, 0, 0, 0, 0, 0, 59, 0, 0, 0, 0, 0, 0, 0, 0]\n"
     ]
    }
   ],
   "metadata": {}
  },
  {
   "cell_type": "code",
   "execution_count": 9,
   "source": [
    "chain"
   ],
   "outputs": [
    {
     "output_type": "execute_result",
     "data": {
      "text/plain": [
       "[1, 2, 3]"
      ]
     },
     "metadata": {},
     "execution_count": 9
    }
   ],
   "metadata": {}
  },
  {
   "cell_type": "code",
   "execution_count": null,
   "source": [],
   "outputs": [],
   "metadata": {}
  }
 ],
 "metadata": {
  "orig_nbformat": 4,
  "language_info": {
   "name": "python",
   "version": "3.8.3",
   "mimetype": "text/x-python",
   "codemirror_mode": {
    "name": "ipython",
    "version": 3
   },
   "pygments_lexer": "ipython3",
   "nbconvert_exporter": "python",
   "file_extension": ".py"
  },
  "kernelspec": {
   "name": "python3",
   "display_name": "Python 3.8.3 64-bit ('base': conda)"
  },
  "interpreter": {
   "hash": "5d591f94785818b435df4881258bbd57da528693019fb2c63deaaf29b9986dd3"
  }
 },
 "nbformat": 4,
 "nbformat_minor": 2
}