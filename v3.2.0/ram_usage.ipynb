{
 "cells": [
  {
   "cell_type": "code",
   "execution_count": 1,
   "source": [
    "import objgraph\r\n",
    "\r\n",
    "print(objgraph.show_most_common_types(limit=11))"
   ],
   "outputs": [
    {
     "output_type": "stream",
     "name": "stdout",
     "text": [
      "function                   13081\n",
      "dict                       8675\n",
      "tuple                      7621\n",
      "weakref                    2781\n",
      "getset_descriptor          1799\n",
      "type                       1686\n",
      "list                       1638\n",
      "cell                       1500\n",
      "builtin_function_or_method 1464\n",
      "wrapper_descriptor         1458\n",
      "method_descriptor          1242\n",
      "None\n"
     ]
    }
   ],
   "metadata": {}
  },
  {
   "cell_type": "code",
   "execution_count": 2,
   "source": [
    "from chess_env import * \r\n",
    "from q_network import *\r\n",
    "from mcts import *\r\n",
    "env = ChessEnv()\r\n",
    "q_model = Q_model()\r\n",
    "for i in range(10):\r\n",
    "    print(i)\r\n",
    "    env.execute_episode(q_model,simulations = 5)"
   ],
   "outputs": [
    {
     "output_type": "stream",
     "name": "stdout",
     "text": [
      "0\n",
      "1\n",
      "2\n",
      "3\n",
      "4\n",
      "5\n",
      "6\n",
      "7\n",
      "8\n",
      "9\n"
     ]
    }
   ],
   "metadata": {}
  },
  {
   "cell_type": "code",
   "execution_count": 4,
   "source": [
    "import objgraph\r\n",
    "\r\n",
    "print(objgraph.show_most_common_types(limit=11))"
   ],
   "outputs": [
    {
     "output_type": "stream",
     "name": "stdout",
     "text": [
      "list        725990\n",
      "dict        176076\n",
      "Node        146093\n",
      "Action      146068\n",
      "_BoardState 136615\n",
      "Board       135562\n",
      "function    82916\n",
      "cell        55017\n",
      "tuple       50117\n",
      "weakref     13697\n",
      "EagerTensor 9431\n",
      "None\n"
     ]
    }
   ],
   "metadata": {}
  },
  {
   "cell_type": "code",
   "execution_count": 5,
   "source": [
    "import chess\r\n",
    "board = chess.Board()"
   ],
   "outputs": [],
   "metadata": {}
  },
  {
   "cell_type": "code",
   "execution_count": 6,
   "source": [
    "board.move_stack = []"
   ],
   "outputs": [],
   "metadata": {}
  },
  {
   "cell_type": "code",
   "execution_count": 7,
   "source": [
    "board.legal_moves"
   ],
   "outputs": [
    {
     "output_type": "execute_result",
     "data": {
      "text/plain": [
       "<LegalMoveGenerator at 0x1beee117a90 (Nh3, Nf3, Nc3, Na3, h3, g3, f3, e3, d3, c3, b3, a3, h4, g4, f4, e4, d4, c4, b4, a4)>"
      ]
     },
     "metadata": {},
     "execution_count": 7
    }
   ],
   "metadata": {}
  }
 ],
 "metadata": {
  "orig_nbformat": 4,
  "language_info": {
   "name": "python",
   "version": "3.8.3",
   "mimetype": "text/x-python",
   "codemirror_mode": {
    "name": "ipython",
    "version": 3
   },
   "pygments_lexer": "ipython3",
   "nbconvert_exporter": "python",
   "file_extension": ".py"
  },
  "kernelspec": {
   "name": "python3",
   "display_name": "Python 3.8.3 64-bit ('base': conda)"
  },
  "interpreter": {
   "hash": "5d591f94785818b435df4881258bbd57da528693019fb2c63deaaf29b9986dd3"
  }
 },
 "nbformat": 4,
 "nbformat_minor": 2
}