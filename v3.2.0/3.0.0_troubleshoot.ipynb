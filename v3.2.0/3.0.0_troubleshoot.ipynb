{
 "cells": [
  {
   "cell_type": "code",
   "execution_count": 1,
   "source": [
    "import objgraph\r\n",
    "objgraph.show_most_common_types(limit=11)"
   ],
   "outputs": [
    {
     "output_type": "stream",
     "name": "stdout",
     "text": [
      "function                   13081\n",
      "dict                       8673\n",
      "tuple                      7621\n",
      "weakref                    2781\n",
      "getset_descriptor          1799\n",
      "type                       1686\n",
      "list                       1636\n",
      "cell                       1500\n",
      "builtin_function_or_method 1464\n",
      "wrapper_descriptor         1458\n",
      "method_descriptor          1242\n"
     ]
    }
   ],
   "metadata": {}
  },
  {
   "cell_type": "code",
   "execution_count": 2,
   "source": [
    "from chess_env import * \r\n",
    "from q_network import *\r\n",
    "from mcts import *\r\n",
    "env = ChessEnv()\r\n",
    "q_model = Q_model()\r\n",
    "env.execute_episode(q_model,simulations = 5)"
   ],
   "outputs": [
    {
     "output_type": "execute_result",
     "data": {
      "text/plain": [
       "'1/2-1/2'"
      ]
     },
     "metadata": {},
     "execution_count": 2
    }
   ],
   "metadata": {}
  },
  {
   "cell_type": "code",
   "execution_count": 4,
   "source": [
    "import objgraph\r\n",
    "objgraph.show_most_common_types(limit=11)"
   ],
   "outputs": [
    {
     "output_type": "stream",
     "name": "stdout",
     "text": [
      "Move                       218564\n",
      "function                   82917\n",
      "cell                       55018\n",
      "list                       51092\n",
      "tuple                      50126\n",
      "dict                       47121\n",
      "weakref                    13697\n",
      "builtin_function_or_method 9225\n",
      "Node                       7127\n",
      "Action                     7102\n",
      "_BoardState                6793\n"
     ]
    }
   ],
   "metadata": {}
  }
 ],
 "metadata": {
  "orig_nbformat": 4,
  "language_info": {
   "name": "python",
   "version": "3.8.3",
   "mimetype": "text/x-python",
   "codemirror_mode": {
    "name": "ipython",
    "version": 3
   },
   "pygments_lexer": "ipython3",
   "nbconvert_exporter": "python",
   "file_extension": ".py"
  },
  "kernelspec": {
   "name": "python3",
   "display_name": "Python 3.8.3 64-bit ('base': conda)"
  },
  "interpreter": {
   "hash": "5d591f94785818b435df4881258bbd57da528693019fb2c63deaaf29b9986dd3"
  }
 },
 "nbformat": 4,
 "nbformat_minor": 2
}